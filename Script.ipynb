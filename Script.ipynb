{
 "cells": [
  {
   "cell_type": "code",
   "execution_count": 1,
   "metadata": {
    "collapsed": true
   },
   "outputs": [],
   "source": [
    "import bs4\n",
    "from urllib.request import urlopen as uReq\n",
    "from bs4 import BeautifulSoup as soup"
   ]
  },
  {
   "cell_type": "code",
   "execution_count": 2,
   "metadata": {
    "collapsed": true
   },
   "outputs": [],
   "source": [
    "# open the html,  grabbing the page\n",
    "url = 'file:///Users/Yifan/Downloads/lot-parser/data/2015-03-18/lot1.html'\n",
    "\n",
    "uOpen = uReq(url)\n",
    "page_html = uOpen.read()\n",
    "# close the connection\n",
    "uOpen.close()\n",
    "\n",
    "# html parser\n",
    "page_soup = soup(page_html, 'html.parser')"
   ]
  },
  {
   "cell_type": "code",
   "execution_count": 3,
   "metadata": {},
   "outputs": [
    {
     "data": {
      "text/plain": [
       "'Rembrandt Harmensz. van Rijn'"
      ]
     },
     "execution_count": 3,
     "metadata": {},
     "output_type": "execute_result"
    }
   ],
   "source": [
    "# grab the author name\n",
    "page_soup.findAll('h2')[0].text"
   ]
  },
  {
   "cell_type": "markdown",
   "metadata": {},
   "source": [
    "## Task 1 - artist"
   ]
  },
  {
   "cell_type": "code",
   "execution_count": 4,
   "metadata": {},
   "outputs": [
    {
     "name": "stdout",
     "output_type": "stream",
     "text": [
      "['Rembrandt Harmensz. van Rijn', 'Louis Marcoussis (1883-1941)', 'Joan Miró', 'Pablo Picasso', 'Marc Chagall']\n"
     ]
    }
   ],
   "source": [
    "# grab from 2015 directory\n",
    "\n",
    "import glob\n",
    "\n",
    "artist_container = []\n",
    "for filename in glob.glob('/Users/Yifan/Downloads/lot-parser/data/2015-03-18/*.html'):\n",
    "    page_soup = soup(open(filename, \"r\").read(), 'html5lib')\n",
    "    containers = page_soup.findAll('body')\n",
    "    \n",
    "    for container in containers:\n",
    "        artist = container.findAll('h2')[0]\n",
    "        artist_container.append(artist.text)\n",
    "        \n",
    "print(artist_container)"
   ]
  }
 ],
 "metadata": {
  "kernelspec": {
   "display_name": "Python 3",
   "language": "python",
   "name": "python3"
  },
  "language_info": {
   "codemirror_mode": {
    "name": "ipython",
    "version": 3
   },
   "file_extension": ".py",
   "mimetype": "text/x-python",
   "name": "python",
   "nbconvert_exporter": "python",
   "pygments_lexer": "ipython3",
   "version": "3.6.2"
  }
 },
 "nbformat": 4,
 "nbformat_minor": 2
}
